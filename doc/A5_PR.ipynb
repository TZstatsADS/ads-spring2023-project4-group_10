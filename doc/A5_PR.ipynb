{
 "cells": [
  {
   "cell_type": "markdown",
   "id": "fadcb3dc",
   "metadata": {
    "id": "fadcb3dc"
   },
   "source": [
    "# Logistic Regression without Prejudice Regularizer"
   ]
  },
  {
   "cell_type": "code",
   "execution_count": 1,
   "id": "vF7Hv0f70_NC",
   "metadata": {
    "id": "vF7Hv0f70_NC"
   },
   "outputs": [],
   "source": [
    "import matplotlib.pyplot as plt\n",
    "import numpy as np\n",
    "import torch\n",
    "import torch.nn as nn\n",
    "\n",
    "import pandas as pd\n",
    "from sklearn.model_selection import train_test_split\n",
    "import warnings\n",
    "warnings.filterwarnings(\"ignore\")"
   ]
  },
  {
   "cell_type": "code",
   "execution_count": 2,
   "id": "RjiL93NtWCJW",
   "metadata": {
    "colab": {
     "base_uri": "https://localhost:8080/",
     "height": 386
    },
    "id": "RjiL93NtWCJW",
    "outputId": "175da4d7-b546-4af3-d0bf-e8e49acb0960"
   },
   "outputs": [
    {
     "data": {
      "text/html": [
       "\n",
       "  <div id=\"df-66afe1b5-1a38-4c70-9f01-85b38471f0db\">\n",
       "    <div class=\"colab-df-container\">\n",
       "      <div>\n",
       "<style scoped>\n",
       "    .dataframe tbody tr th:only-of-type {\n",
       "        vertical-align: middle;\n",
       "    }\n",
       "\n",
       "    .dataframe tbody tr th {\n",
       "        vertical-align: top;\n",
       "    }\n",
       "\n",
       "    .dataframe thead th {\n",
       "        text-align: right;\n",
       "    }\n",
       "</style>\n",
       "<table border=\"1\" class=\"dataframe\">\n",
       "  <thead>\n",
       "    <tr style=\"text-align: right;\">\n",
       "      <th></th>\n",
       "      <th>id</th>\n",
       "      <th>name</th>\n",
       "      <th>first</th>\n",
       "      <th>last</th>\n",
       "      <th>compas_screening_date</th>\n",
       "      <th>sex</th>\n",
       "      <th>dob</th>\n",
       "      <th>age</th>\n",
       "      <th>age_cat</th>\n",
       "      <th>race</th>\n",
       "      <th>...</th>\n",
       "      <th>v_decile_score</th>\n",
       "      <th>v_score_text</th>\n",
       "      <th>v_screening_date</th>\n",
       "      <th>in_custody</th>\n",
       "      <th>out_custody</th>\n",
       "      <th>priors_count.1</th>\n",
       "      <th>start</th>\n",
       "      <th>end</th>\n",
       "      <th>event</th>\n",
       "      <th>two_year_recid</th>\n",
       "    </tr>\n",
       "  </thead>\n",
       "  <tbody>\n",
       "    <tr>\n",
       "      <th>0</th>\n",
       "      <td>1</td>\n",
       "      <td>miguel hernandez</td>\n",
       "      <td>miguel</td>\n",
       "      <td>hernandez</td>\n",
       "      <td>2013-08-14</td>\n",
       "      <td>Male</td>\n",
       "      <td>1947-04-18</td>\n",
       "      <td>69</td>\n",
       "      <td>Greater than 45</td>\n",
       "      <td>Other</td>\n",
       "      <td>...</td>\n",
       "      <td>1</td>\n",
       "      <td>Low</td>\n",
       "      <td>2013-08-14</td>\n",
       "      <td>2014-07-07</td>\n",
       "      <td>2014-07-14</td>\n",
       "      <td>0</td>\n",
       "      <td>0</td>\n",
       "      <td>327</td>\n",
       "      <td>0</td>\n",
       "      <td>0</td>\n",
       "    </tr>\n",
       "    <tr>\n",
       "      <th>1</th>\n",
       "      <td>3</td>\n",
       "      <td>kevon dixon</td>\n",
       "      <td>kevon</td>\n",
       "      <td>dixon</td>\n",
       "      <td>2013-01-27</td>\n",
       "      <td>Male</td>\n",
       "      <td>1982-01-22</td>\n",
       "      <td>34</td>\n",
       "      <td>25 - 45</td>\n",
       "      <td>African-American</td>\n",
       "      <td>...</td>\n",
       "      <td>1</td>\n",
       "      <td>Low</td>\n",
       "      <td>2013-01-27</td>\n",
       "      <td>2013-01-26</td>\n",
       "      <td>2013-02-05</td>\n",
       "      <td>0</td>\n",
       "      <td>9</td>\n",
       "      <td>159</td>\n",
       "      <td>1</td>\n",
       "      <td>1</td>\n",
       "    </tr>\n",
       "    <tr>\n",
       "      <th>2</th>\n",
       "      <td>4</td>\n",
       "      <td>ed philo</td>\n",
       "      <td>ed</td>\n",
       "      <td>philo</td>\n",
       "      <td>2013-04-14</td>\n",
       "      <td>Male</td>\n",
       "      <td>1991-05-14</td>\n",
       "      <td>24</td>\n",
       "      <td>Less than 25</td>\n",
       "      <td>African-American</td>\n",
       "      <td>...</td>\n",
       "      <td>3</td>\n",
       "      <td>Low</td>\n",
       "      <td>2013-04-14</td>\n",
       "      <td>2013-06-16</td>\n",
       "      <td>2013-06-16</td>\n",
       "      <td>4</td>\n",
       "      <td>0</td>\n",
       "      <td>63</td>\n",
       "      <td>0</td>\n",
       "      <td>1</td>\n",
       "    </tr>\n",
       "    <tr>\n",
       "      <th>3</th>\n",
       "      <td>5</td>\n",
       "      <td>marcu brown</td>\n",
       "      <td>marcu</td>\n",
       "      <td>brown</td>\n",
       "      <td>2013-01-13</td>\n",
       "      <td>Male</td>\n",
       "      <td>1993-01-21</td>\n",
       "      <td>23</td>\n",
       "      <td>Less than 25</td>\n",
       "      <td>African-American</td>\n",
       "      <td>...</td>\n",
       "      <td>6</td>\n",
       "      <td>Medium</td>\n",
       "      <td>2013-01-13</td>\n",
       "      <td>NaN</td>\n",
       "      <td>NaN</td>\n",
       "      <td>1</td>\n",
       "      <td>0</td>\n",
       "      <td>1174</td>\n",
       "      <td>0</td>\n",
       "      <td>0</td>\n",
       "    </tr>\n",
       "    <tr>\n",
       "      <th>4</th>\n",
       "      <td>6</td>\n",
       "      <td>bouthy pierrelouis</td>\n",
       "      <td>bouthy</td>\n",
       "      <td>pierrelouis</td>\n",
       "      <td>2013-03-26</td>\n",
       "      <td>Male</td>\n",
       "      <td>1973-01-22</td>\n",
       "      <td>43</td>\n",
       "      <td>25 - 45</td>\n",
       "      <td>Other</td>\n",
       "      <td>...</td>\n",
       "      <td>1</td>\n",
       "      <td>Low</td>\n",
       "      <td>2013-03-26</td>\n",
       "      <td>NaN</td>\n",
       "      <td>NaN</td>\n",
       "      <td>2</td>\n",
       "      <td>0</td>\n",
       "      <td>1102</td>\n",
       "      <td>0</td>\n",
       "      <td>0</td>\n",
       "    </tr>\n",
       "  </tbody>\n",
       "</table>\n",
       "<p>5 rows × 53 columns</p>\n",
       "</div>\n",
       "      <button class=\"colab-df-convert\" onclick=\"convertToInteractive('df-66afe1b5-1a38-4c70-9f01-85b38471f0db')\"\n",
       "              title=\"Convert this dataframe to an interactive table.\"\n",
       "              style=\"display:none;\">\n",
       "        \n",
       "  <svg xmlns=\"http://www.w3.org/2000/svg\" height=\"24px\"viewBox=\"0 0 24 24\"\n",
       "       width=\"24px\">\n",
       "    <path d=\"M0 0h24v24H0V0z\" fill=\"none\"/>\n",
       "    <path d=\"M18.56 5.44l.94 2.06.94-2.06 2.06-.94-2.06-.94-.94-2.06-.94 2.06-2.06.94zm-11 1L8.5 8.5l.94-2.06 2.06-.94-2.06-.94L8.5 2.5l-.94 2.06-2.06.94zm10 10l.94 2.06.94-2.06 2.06-.94-2.06-.94-.94-2.06-.94 2.06-2.06.94z\"/><path d=\"M17.41 7.96l-1.37-1.37c-.4-.4-.92-.59-1.43-.59-.52 0-1.04.2-1.43.59L10.3 9.45l-7.72 7.72c-.78.78-.78 2.05 0 2.83L4 21.41c.39.39.9.59 1.41.59.51 0 1.02-.2 1.41-.59l7.78-7.78 2.81-2.81c.8-.78.8-2.07 0-2.86zM5.41 20L4 18.59l7.72-7.72 1.47 1.35L5.41 20z\"/>\n",
       "  </svg>\n",
       "      </button>\n",
       "      \n",
       "  <style>\n",
       "    .colab-df-container {\n",
       "      display:flex;\n",
       "      flex-wrap:wrap;\n",
       "      gap: 12px;\n",
       "    }\n",
       "\n",
       "    .colab-df-convert {\n",
       "      background-color: #E8F0FE;\n",
       "      border: none;\n",
       "      border-radius: 50%;\n",
       "      cursor: pointer;\n",
       "      display: none;\n",
       "      fill: #1967D2;\n",
       "      height: 32px;\n",
       "      padding: 0 0 0 0;\n",
       "      width: 32px;\n",
       "    }\n",
       "\n",
       "    .colab-df-convert:hover {\n",
       "      background-color: #E2EBFA;\n",
       "      box-shadow: 0px 1px 2px rgba(60, 64, 67, 0.3), 0px 1px 3px 1px rgba(60, 64, 67, 0.15);\n",
       "      fill: #174EA6;\n",
       "    }\n",
       "\n",
       "    [theme=dark] .colab-df-convert {\n",
       "      background-color: #3B4455;\n",
       "      fill: #D2E3FC;\n",
       "    }\n",
       "\n",
       "    [theme=dark] .colab-df-convert:hover {\n",
       "      background-color: #434B5C;\n",
       "      box-shadow: 0px 1px 3px 1px rgba(0, 0, 0, 0.15);\n",
       "      filter: drop-shadow(0px 1px 2px rgba(0, 0, 0, 0.3));\n",
       "      fill: #FFFFFF;\n",
       "    }\n",
       "  </style>\n",
       "\n",
       "      <script>\n",
       "        const buttonEl =\n",
       "          document.querySelector('#df-66afe1b5-1a38-4c70-9f01-85b38471f0db button.colab-df-convert');\n",
       "        buttonEl.style.display =\n",
       "          google.colab.kernel.accessAllowed ? 'block' : 'none';\n",
       "\n",
       "        async function convertToInteractive(key) {\n",
       "          const element = document.querySelector('#df-66afe1b5-1a38-4c70-9f01-85b38471f0db');\n",
       "          const dataTable =\n",
       "            await google.colab.kernel.invokeFunction('convertToInteractive',\n",
       "                                                     [key], {});\n",
       "          if (!dataTable) return;\n",
       "\n",
       "          const docLinkHtml = 'Like what you see? Visit the ' +\n",
       "            '<a target=\"_blank\" href=https://colab.research.google.com/notebooks/data_table.ipynb>data table notebook</a>'\n",
       "            + ' to learn more about interactive tables.';\n",
       "          element.innerHTML = '';\n",
       "          dataTable['output_type'] = 'display_data';\n",
       "          await google.colab.output.renderOutput(dataTable, element);\n",
       "          const docLink = document.createElement('div');\n",
       "          docLink.innerHTML = docLinkHtml;\n",
       "          element.appendChild(docLink);\n",
       "        }\n",
       "      </script>\n",
       "    </div>\n",
       "  </div>\n",
       "  "
      ],
      "text/plain": [
       "   id                name   first         last compas_screening_date   sex  \\\n",
       "0   1    miguel hernandez  miguel    hernandez            2013-08-14  Male   \n",
       "1   3         kevon dixon   kevon        dixon            2013-01-27  Male   \n",
       "2   4            ed philo      ed        philo            2013-04-14  Male   \n",
       "3   5         marcu brown   marcu        brown            2013-01-13  Male   \n",
       "4   6  bouthy pierrelouis  bouthy  pierrelouis            2013-03-26  Male   \n",
       "\n",
       "          dob  age          age_cat              race  ...  v_decile_score  \\\n",
       "0  1947-04-18   69  Greater than 45             Other  ...               1   \n",
       "1  1982-01-22   34          25 - 45  African-American  ...               1   \n",
       "2  1991-05-14   24     Less than 25  African-American  ...               3   \n",
       "3  1993-01-21   23     Less than 25  African-American  ...               6   \n",
       "4  1973-01-22   43          25 - 45             Other  ...               1   \n",
       "\n",
       "   v_score_text  v_screening_date  in_custody  out_custody  priors_count.1  \\\n",
       "0           Low        2013-08-14  2014-07-07   2014-07-14               0   \n",
       "1           Low        2013-01-27  2013-01-26   2013-02-05               0   \n",
       "2           Low        2013-04-14  2013-06-16   2013-06-16               4   \n",
       "3        Medium        2013-01-13         NaN          NaN               1   \n",
       "4           Low        2013-03-26         NaN          NaN               2   \n",
       "\n",
       "  start   end event two_year_recid  \n",
       "0     0   327     0              0  \n",
       "1     9   159     1              1  \n",
       "2     0    63     0              1  \n",
       "3     0  1174     0              0  \n",
       "4     0  1102     0              0  \n",
       "\n",
       "[5 rows x 53 columns]"
      ]
     },
     "execution_count": 2,
     "metadata": {},
     "output_type": "execute_result"
    }
   ],
   "source": [
    "data = pd.read_csv(\"compas-scores-two-years.csv\")\n",
    "data.columns.values\n",
    "data.head()"
   ]
  },
  {
   "cell_type": "markdown",
   "id": "BakLceC08rV9",
   "metadata": {
    "id": "BakLceC08rV9"
   },
   "source": [
    "## Data Preprocessing"
   ]
  },
  {
   "cell_type": "code",
   "execution_count": 3,
   "id": "ffaaa2e8",
   "metadata": {
    "colab": {
     "base_uri": "https://localhost:8080/",
     "height": 206
    },
    "id": "ffaaa2e8",
    "outputId": "a2f3c1da-c489-4192-c2a1-4faa4fbec87f"
   },
   "outputs": [
    {
     "data": {
      "text/html": [
       "\n",
       "  <div id=\"df-127fc755-d4ed-4772-ab78-f45bcc0c26c2\">\n",
       "    <div class=\"colab-df-container\">\n",
       "      <div>\n",
       "<style scoped>\n",
       "    .dataframe tbody tr th:only-of-type {\n",
       "        vertical-align: middle;\n",
       "    }\n",
       "\n",
       "    .dataframe tbody tr th {\n",
       "        vertical-align: top;\n",
       "    }\n",
       "\n",
       "    .dataframe thead th {\n",
       "        text-align: right;\n",
       "    }\n",
       "</style>\n",
       "<table border=\"1\" class=\"dataframe\">\n",
       "  <thead>\n",
       "    <tr style=\"text-align: right;\">\n",
       "      <th></th>\n",
       "      <th>age</th>\n",
       "      <th>c_charge_degree</th>\n",
       "      <th>race</th>\n",
       "      <th>score_text</th>\n",
       "      <th>priors_count</th>\n",
       "      <th>two_year_recid</th>\n",
       "      <th>is_violent_recid</th>\n",
       "      <th>length_of_stay</th>\n",
       "    </tr>\n",
       "  </thead>\n",
       "  <tbody>\n",
       "    <tr>\n",
       "      <th>1</th>\n",
       "      <td>34</td>\n",
       "      <td>0</td>\n",
       "      <td>0</td>\n",
       "      <td>0</td>\n",
       "      <td>0</td>\n",
       "      <td>1</td>\n",
       "      <td>1</td>\n",
       "      <td>10.0</td>\n",
       "    </tr>\n",
       "    <tr>\n",
       "      <th>2</th>\n",
       "      <td>24</td>\n",
       "      <td>0</td>\n",
       "      <td>0</td>\n",
       "      <td>0</td>\n",
       "      <td>4</td>\n",
       "      <td>1</td>\n",
       "      <td>0</td>\n",
       "      <td>1.0</td>\n",
       "    </tr>\n",
       "    <tr>\n",
       "      <th>6</th>\n",
       "      <td>41</td>\n",
       "      <td>0</td>\n",
       "      <td>1</td>\n",
       "      <td>1</td>\n",
       "      <td>14</td>\n",
       "      <td>1</td>\n",
       "      <td>0</td>\n",
       "      <td>6.0</td>\n",
       "    </tr>\n",
       "    <tr>\n",
       "      <th>8</th>\n",
       "      <td>39</td>\n",
       "      <td>1</td>\n",
       "      <td>1</td>\n",
       "      <td>0</td>\n",
       "      <td>0</td>\n",
       "      <td>0</td>\n",
       "      <td>0</td>\n",
       "      <td>2.0</td>\n",
       "    </tr>\n",
       "    <tr>\n",
       "      <th>9</th>\n",
       "      <td>21</td>\n",
       "      <td>0</td>\n",
       "      <td>1</td>\n",
       "      <td>0</td>\n",
       "      <td>1</td>\n",
       "      <td>1</td>\n",
       "      <td>1</td>\n",
       "      <td>0.0</td>\n",
       "    </tr>\n",
       "  </tbody>\n",
       "</table>\n",
       "</div>\n",
       "      <button class=\"colab-df-convert\" onclick=\"convertToInteractive('df-127fc755-d4ed-4772-ab78-f45bcc0c26c2')\"\n",
       "              title=\"Convert this dataframe to an interactive table.\"\n",
       "              style=\"display:none;\">\n",
       "        \n",
       "  <svg xmlns=\"http://www.w3.org/2000/svg\" height=\"24px\"viewBox=\"0 0 24 24\"\n",
       "       width=\"24px\">\n",
       "    <path d=\"M0 0h24v24H0V0z\" fill=\"none\"/>\n",
       "    <path d=\"M18.56 5.44l.94 2.06.94-2.06 2.06-.94-2.06-.94-.94-2.06-.94 2.06-2.06.94zm-11 1L8.5 8.5l.94-2.06 2.06-.94-2.06-.94L8.5 2.5l-.94 2.06-2.06.94zm10 10l.94 2.06.94-2.06 2.06-.94-2.06-.94-.94-2.06-.94 2.06-2.06.94z\"/><path d=\"M17.41 7.96l-1.37-1.37c-.4-.4-.92-.59-1.43-.59-.52 0-1.04.2-1.43.59L10.3 9.45l-7.72 7.72c-.78.78-.78 2.05 0 2.83L4 21.41c.39.39.9.59 1.41.59.51 0 1.02-.2 1.41-.59l7.78-7.78 2.81-2.81c.8-.78.8-2.07 0-2.86zM5.41 20L4 18.59l7.72-7.72 1.47 1.35L5.41 20z\"/>\n",
       "  </svg>\n",
       "      </button>\n",
       "      \n",
       "  <style>\n",
       "    .colab-df-container {\n",
       "      display:flex;\n",
       "      flex-wrap:wrap;\n",
       "      gap: 12px;\n",
       "    }\n",
       "\n",
       "    .colab-df-convert {\n",
       "      background-color: #E8F0FE;\n",
       "      border: none;\n",
       "      border-radius: 50%;\n",
       "      cursor: pointer;\n",
       "      display: none;\n",
       "      fill: #1967D2;\n",
       "      height: 32px;\n",
       "      padding: 0 0 0 0;\n",
       "      width: 32px;\n",
       "    }\n",
       "\n",
       "    .colab-df-convert:hover {\n",
       "      background-color: #E2EBFA;\n",
       "      box-shadow: 0px 1px 2px rgba(60, 64, 67, 0.3), 0px 1px 3px 1px rgba(60, 64, 67, 0.15);\n",
       "      fill: #174EA6;\n",
       "    }\n",
       "\n",
       "    [theme=dark] .colab-df-convert {\n",
       "      background-color: #3B4455;\n",
       "      fill: #D2E3FC;\n",
       "    }\n",
       "\n",
       "    [theme=dark] .colab-df-convert:hover {\n",
       "      background-color: #434B5C;\n",
       "      box-shadow: 0px 1px 3px 1px rgba(0, 0, 0, 0.15);\n",
       "      filter: drop-shadow(0px 1px 2px rgba(0, 0, 0, 0.3));\n",
       "      fill: #FFFFFF;\n",
       "    }\n",
       "  </style>\n",
       "\n",
       "      <script>\n",
       "        const buttonEl =\n",
       "          document.querySelector('#df-127fc755-d4ed-4772-ab78-f45bcc0c26c2 button.colab-df-convert');\n",
       "        buttonEl.style.display =\n",
       "          google.colab.kernel.accessAllowed ? 'block' : 'none';\n",
       "\n",
       "        async function convertToInteractive(key) {\n",
       "          const element = document.querySelector('#df-127fc755-d4ed-4772-ab78-f45bcc0c26c2');\n",
       "          const dataTable =\n",
       "            await google.colab.kernel.invokeFunction('convertToInteractive',\n",
       "                                                     [key], {});\n",
       "          if (!dataTable) return;\n",
       "\n",
       "          const docLinkHtml = 'Like what you see? Visit the ' +\n",
       "            '<a target=\"_blank\" href=https://colab.research.google.com/notebooks/data_table.ipynb>data table notebook</a>'\n",
       "            + ' to learn more about interactive tables.';\n",
       "          element.innerHTML = '';\n",
       "          dataTable['output_type'] = 'display_data';\n",
       "          await google.colab.output.renderOutput(dataTable, element);\n",
       "          const docLink = document.createElement('div');\n",
       "          docLink.innerHTML = docLinkHtml;\n",
       "          element.appendChild(docLink);\n",
       "        }\n",
       "      </script>\n",
       "    </div>\n",
       "  </div>\n",
       "  "
      ],
      "text/plain": [
       "   age  c_charge_degree race  score_text  priors_count  two_year_recid  \\\n",
       "1   34                0    0           0             0               1   \n",
       "2   24                0    0           0             4               1   \n",
       "6   41                0    1           1            14               1   \n",
       "8   39                1    1           0             0               0   \n",
       "9   21                0    1           0             1               1   \n",
       "\n",
       "   is_violent_recid  length_of_stay  \n",
       "1                 1            10.0  \n",
       "2                 0             1.0  \n",
       "6                 0             6.0  \n",
       "8                 0             2.0  \n",
       "9                 1             0.0  "
      ]
     },
     "execution_count": 3,
     "metadata": {},
     "output_type": "execute_result"
    }
   ],
   "source": [
    "data = pd.read_csv(\"compas-scores-two-years.csv\")\n",
    "df = data[['age', 'c_charge_degree', 'race', 'score_text', 'priors_count',             \n",
    "           #'decile_score',\n",
    "           'two_year_recid', 'c_jail_in', 'c_jail_out', 'is_violent_recid']]\n",
    "\n",
    "\n",
    "df = df.loc[df['race'].isin(('African-American', 'Caucasian'))]\n",
    "\n",
    "df.loc[df[\"race\"] == \"African-American\", \"race\"] = 0\n",
    "df.loc[df[\"race\"] == \"Caucasian\", \"race\"] = 1\n",
    "\n",
    "\n",
    "df = df.loc[df['c_charge_degree'] != 'O']\n",
    "df = df.loc[df['score_text'] != 'N/A']\n",
    "\n",
    "df['length_of_stay'] = (df['c_jail_out'].apply(pd.to_datetime) - df['c_jail_in'].apply(pd.to_datetime)).dt.days\n",
    "df = df.dropna(subset = ['length_of_stay'])\n",
    "\n",
    "df = df.drop(columns=['c_jail_in', 'c_jail_out'])\n",
    "\n",
    "df = df.replace({'c_charge_degree': 'F'}, 0)\n",
    "df = df.replace({'c_charge_degree': 'M'}, 1)\n",
    "\n",
    "df = df.replace({'score_text': 'Low'}, 0)\n",
    "df = df.replace({'score_text': 'Medium'}, 1)\n",
    "df = df.replace({'score_text': 'High'}, 2)\n",
    "\n",
    "df = df.drop_duplicates()\n",
    "\n",
    "df.head()"
   ]
  },
  {
   "cell_type": "code",
   "execution_count": 4,
   "id": "mPl-OWDEc__j",
   "metadata": {
    "id": "mPl-OWDEc__j"
   },
   "outputs": [],
   "source": [
    "from sklearn.model_selection import train_test_split\n",
    "\n",
    "#split dataset so that training:validation:testing=5:1:1\n",
    "df_train, df_rem = train_test_split(df,train_size=5/7.0)\n",
    "df_valid, df_test = train_test_split(df_rem, test_size = 0.5)"
   ]
  },
  {
   "cell_type": "code",
   "execution_count": 5,
   "id": "b96f931d",
   "metadata": {
    "id": "b96f931d"
   },
   "outputs": [],
   "source": [
    "df_train_a = df_train[df_train['race'] == 0]\n",
    "df_train_c = df_train[df_train['race'] == 1]\n",
    "\n",
    "df_test_a = df_test[df_test['race'] == 0]\n",
    "df_test_c = df_test[df_test['race'] == 1]\n",
    "\n",
    "df_valid_a = df_valid[df_valid['race'] == 0]\n",
    "df_valid_c = df_valid[df_valid['race'] == 1]"
   ]
  },
  {
   "cell_type": "code",
   "execution_count": 6,
   "id": "c2281782",
   "metadata": {
    "id": "c2281782"
   },
   "outputs": [],
   "source": [
    "X_train_a = df_train_a.drop(columns = ['two_year_recid', 'race'])\n",
    "X_train_c = df_train_c.drop(columns = ['two_year_recid', 'race'])\n",
    "Y_train_a = df_train_a['two_year_recid']\n",
    "Y_train_c = df_train_c['two_year_recid']\n",
    "S_train_a = df_train_a['race']\n",
    "S_train_c = df_train_c['race']\n",
    "\n",
    "X_test_a = df_test_a.drop(columns = ['two_year_recid', 'race'])\n",
    "X_test_c = df_test_c.drop(columns = ['two_year_recid', 'race'])\n",
    "Y_test_a = df_test_a['two_year_recid']\n",
    "Y_test_c = df_test_c['two_year_recid']\n",
    "S_test_a = df_test_a['race']\n",
    "S_test_c = df_test_c['race']\n",
    "\n",
    "X_valid_a = df_valid_a.drop(columns = ['two_year_recid', 'race'])\n",
    "X_valid_c = df_valid_c.drop(columns = ['two_year_recid', 'race'])\n",
    "Y_valid_a = df_valid_a['two_year_recid']\n",
    "Y_valid_c = df_valid_c['two_year_recid']\n",
    "S_valid_a = df_valid_a['race']\n",
    "S_valid_c = df_valid_c['race']"
   ]
  },
  {
   "cell_type": "code",
   "execution_count": 7,
   "id": "cRrzmWtwMDHU",
   "metadata": {
    "id": "cRrzmWtwMDHU"
   },
   "outputs": [],
   "source": [
    "import torch as t\n",
    "\n",
    "train_X_c=t.tensor(np.array(X_train_c).astype('float32'))\n",
    "train_Y_c=t.from_numpy(np.array(Y_train_c).astype('float32')).reshape(X_train_c.shape[0],1)\n",
    "train_X_a=t.tensor(np.array(X_train_a).astype('float32'))\n",
    "train_Y_a=t.from_numpy(np.array(Y_train_a).astype('float32')).reshape(X_train_a.shape[0],1)\n",
    "\n",
    "valid_X_c=t.tensor(np.array(X_valid_c).astype('float32'))\n",
    "valid_Y_c=t.from_numpy(np.array(Y_valid_c).astype('float32')).reshape(X_valid_c.shape[0],1)\n",
    "valid_X_a=t.tensor(np.array(X_valid_a).astype('float32'))\n",
    "valid_Y_a=t.from_numpy(np.array(Y_valid_a).astype('float32')).reshape(X_valid_a.shape[0],1)\n",
    "\n",
    "test_X_c=t.tensor(np.array(X_test_c).astype('float32'))\n",
    "test_Y_c=t.from_numpy(np.array(Y_test_c).astype('float32')).reshape(X_test_c.shape[0],1)\n",
    "test_X_a=t.tensor(np.array(X_test_a).astype('float32'))\n",
    "test_Y_a=t.from_numpy(np.array(Y_test_a).astype('float32')).reshape(X_test_a.shape[0],1)"
   ]
  },
  {
   "cell_type": "code",
   "execution_count": 8,
   "id": "GqJHHMhr18N5",
   "metadata": {
    "colab": {
     "base_uri": "https://localhost:8080/"
    },
    "id": "GqJHHMhr18N5",
    "outputId": "2dc1733e-4b8f-4534-a010-d86f34c25f27"
   },
   "outputs": [
    {
     "data": {
      "text/plain": [
       "0.6729411764705883"
      ]
     },
     "execution_count": 8,
     "metadata": {},
     "output_type": "execute_result"
    }
   ],
   "source": [
    "# Accuracy for group of African-American\n",
    "from sklearn.linear_model import LogisticRegression\n",
    "\n",
    "clf_a = LogisticRegression(random_state=0).fit(train_X_a, train_Y_a)\n",
    "accuracy_a = clf_a.score(valid_X_a,valid_Y_a)\n",
    "accuracy_a"
   ]
  },
  {
   "cell_type": "code",
   "execution_count": 9,
   "id": "RfbbUwbB2V-I",
   "metadata": {
    "colab": {
     "base_uri": "https://localhost:8080/"
    },
    "id": "RfbbUwbB2V-I",
    "outputId": "5b6c7bcd-1a77-4de3-cd23-7e6cb12e5bbc"
   },
   "outputs": [
    {
     "data": {
      "text/plain": [
       "0.7128378378378378"
      ]
     },
     "execution_count": 9,
     "metadata": {},
     "output_type": "execute_result"
    }
   ],
   "source": [
    "clf_c = LogisticRegression().fit(train_X_c, train_Y_c)\n",
    "accuracy_c = clf_c.score(valid_X_c,valid_Y_c)\n",
    "accuracy_c"
   ]
  },
  {
   "cell_type": "code",
   "execution_count": 10,
   "id": "Ls2e_bCX5CFl",
   "metadata": {
    "colab": {
     "base_uri": "https://localhost:8080/"
    },
    "id": "Ls2e_bCX5CFl",
    "outputId": "376e81ee-f279-4c0d-dce4-22a2500633a3"
   },
   "outputs": [
    {
     "name": "stdout",
     "output_type": "stream",
     "text": [
      "Validation accuracy:  0.692889507154213\n",
      "Validation calibration score:  0.039896661367249564\n"
     ]
    }
   ],
   "source": [
    "# Accuracy in general and Calibration\n",
    "accuracy = (accuracy_a+accuracy_c)/2\n",
    "calibration = abs(accuracy_a - accuracy_c)\n",
    "\n",
    "print(\"Validation accuracy: \", accuracy)\n",
    "print(\"Validation calibration score: \", calibration)"
   ]
  },
  {
   "cell_type": "code",
   "execution_count": 11,
   "id": "74d8bf79",
   "metadata": {
    "colab": {
     "base_uri": "https://localhost:8080/"
    },
    "id": "74d8bf79",
    "outputId": "cf456eaf-6e94-4ba7-fb77-884a486a6b42"
   },
   "outputs": [
    {
     "name": "stdout",
     "output_type": "stream",
     "text": [
      "0.6605080831408776\n",
      "0.7152777777777778\n",
      "Test accuracy:  0.6878929304593278\n",
      "Test calibration score:  0.05476969463690018\n"
     ]
    }
   ],
   "source": [
    "accuracy_a_test = clf_a.score(test_X_a,test_Y_a)\n",
    "accuracy_c_test = clf_c.score(test_X_c,test_Y_c)\n",
    "print(accuracy_a_test)\n",
    "print(accuracy_c_test)\n",
    "print(\"Test accuracy: \", (accuracy_a_test + accuracy_c_test)/2)\n",
    "print(\"Test calibration score: \", abs(accuracy_a_test - accuracy_c_test))"
   ]
  },
  {
   "cell_type": "code",
   "execution_count": 12,
   "id": "gwRyPeyGSPnP",
   "metadata": {
    "id": "gwRyPeyGSPnP"
   },
   "outputs": [],
   "source": [
    "def accuracy( Model_c,Model_a, df_c_X_train,df_c_y_train,df_a_X_train,df_a_y_train):\n",
    "    yc_pred = (Model_c(df_c_X_train) >= 0.5)\n",
    "    ya_pred = (Model_a(df_a_X_train) >= 0.5)\n",
    "    accu_c  = t.sum(yc_pred.flatten() == df_c_y_train.flatten()) / df_c_X_train.shape[0]\n",
    "    #accu_c = mean(yc_pred == df_c_y_train)\n",
    "    accu_a  = t.sum(ya_pred.flatten() == df_a_y_train.flatten()) / df_a_X_train.shape[0]\n",
    "    #accu_a = mean(ya_pred == df_a_y_train)\n",
    "    accuracy = (accu_c + accu_a) / 2\n",
    "    calibration=abs(accu_c-accu_a)\n",
    "    return round(accuracy.item(),4),round(calibration.item(),4)\n",
    "    print(\"Accuracy : %.3f\" % (accuracy * 100)+'%')\n",
    "    print(\"Calibration : %.3f\" % (calibration * 100)+'%')"
   ]
  },
  {
   "cell_type": "markdown",
   "id": "b8a23e23",
   "metadata": {
    "id": "b8a23e23"
   },
   "source": [
    "# Logistic Regression with Prejudice Regularizer"
   ]
  },
  {
   "cell_type": "markdown",
   "id": "_HOJaCXTB0an",
   "metadata": {
    "id": "_HOJaCXTB0an"
   },
   "source": [
    "## Prejudice Index"
   ]
  },
  {
   "cell_type": "code",
   "execution_count": 13,
   "id": "GEl5sshbvKUU",
   "metadata": {
    "id": "GEl5sshbvKUU"
   },
   "outputs": [],
   "source": [
    "import torch as t\n",
    "\n",
    "class PRLoss():#using linear\n",
    "    def __init__(self, eta=1.0):\n",
    "        super(PRLoss, self).__init__()\n",
    "        self.eta = eta\n",
    "    def forward(self,output_c,output_a):\n",
    "        # For the mutual information, \n",
    "        # eqn(9): Pr[y|s] = sum{(xi,si),si=s} sigma(xi,s) / D[xs]\n",
    "        #D[xs]\n",
    "        N_cau = t.tensor(output_c.shape[0])\n",
    "        N_aa   = t.tensor(output_a.shape[0])\n",
    "        Dxisi = t.stack((N_aa,N_cau),axis=0) # African-American sample (s0), #Caucasian sample (s1)\n",
    "        # Pr[y|s]\n",
    "        y_pred_cau = t.sum(output_c)\n",
    "        y_pred_aa   = t.sum(output_a)\n",
    "        P_ys = t.stack((y_pred_aa,y_pred_cau),axis=0) / Dxisi\n",
    "        # eqn(10): Pr[y]~sum{(xi,si)} sigma(xi,si) / |D[xs]|\n",
    "        P = t.cat((output_c,output_a),0)\n",
    "        P_y = t.sum(P) / (train_X_a.shape[0]+train_X_c.shape[0])\n",
    "        # P(siyi)\n",
    "        P_s1y1 = t.log(P_ys[1]) - t.log(P_y)\n",
    "        P_s1y0 = t.log(1-P_ys[1]) - t.log(1-P_y)\n",
    "        P_s0y1 = t.log(P_ys[0]) - t.log(P_y)\n",
    "        P_s0y0 = t.log(1-P_ys[0]) - t.log(1-P_y)\n",
    "        # eqn(11) RPR\n",
    "        # PI=sum{xi,si}sum{y}M*ln(Pr[y|si]/Pr[y])=sum{xi,si}sum{y}M*ln(Pr[Y,S]/(Pr[S]pR[Y]))\n",
    "        PI_s1y1 = output_c * P_s1y1\n",
    "        PI_s1y0 =(1- output_c) * P_s1y0\n",
    "        PI_s0y1 = output_a * P_s0y1\n",
    "        PI_s0y0 = (1- output_a )* P_s0y0\n",
    "        PI = t.sum(PI_s1y1) + t.sum(PI_s1y0) + t.sum(PI_s0y1) + t.sum(PI_s0y0)\n",
    "        PI = self.eta * PI\n",
    "        return PI"
   ]
  },
  {
   "cell_type": "markdown",
   "id": "iJ7g9MrAB8yS",
   "metadata": {
    "id": "iJ7g9MrAB8yS"
   },
   "source": [
    "## Prejudice Remover in Logistic Regression"
   ]
  },
  {
   "cell_type": "code",
   "execution_count": 14,
   "id": "c4o6Z5XYQYne",
   "metadata": {
    "id": "c4o6Z5XYQYne"
   },
   "outputs": [],
   "source": [
    "import torch.nn as nn\n",
    "class LogisticRegression(nn.Module):\n",
    "    def __init__(self,data):\n",
    "        super(LogisticRegression, self).__init__()\n",
    "        self.w = nn.Linear(data.shape[1], out_features=1, bias=True)\n",
    "        self.sigmod = nn.Sigmoid()\n",
    "    def forward(self, x):\n",
    "        w = self.w(x)\n",
    "        output = self.sigmod(w)\n",
    "        return output"
   ]
  },
  {
   "cell_type": "code",
   "execution_count": 15,
   "id": "-ZWcDD1Tx26R",
   "metadata": {
    "id": "-ZWcDD1Tx26R"
   },
   "outputs": [],
   "source": [
    "class PRLR():\n",
    "    def __init__(self, eta = 1, iters = 100, step = 0.01):\n",
    "        super(PRLR, self).__init__()\n",
    "        self.eta = eta\n",
    "        self.step = step\n",
    "        self.iters = iters\n",
    "\n",
    "    def fit(self, X_train_c, Y_train_c, X_train_a, Y_train_a, \n",
    "            X_valid_c, Y_valid_c, X_valid_a, Y_valid_a,\n",
    "            X_test_c, Y_test_c, X_test_a, Y_test_a):\n",
    "        modela = LogisticRegression(X_train_a)      # African-American\n",
    "        modelc = LogisticRegression(X_train_c)      # Caucasian\n",
    "        loss = nn.BCELoss(reduction='sum')\n",
    "        iters = self.iters\n",
    "        PI_term = PRLoss(eta = self.eta)\n",
    "        #L2_optimizer = t.optim.Adam(list(np.abs(model0.parameters()) + np.abs(model1.parameters())), self.step, weight_decay = 1e-5)\n",
    "        L2_optimizer = t.optim.Adam(list(modela.parameters())+list(modelc.parameters()), self.step, weight_decay = 1e-5)\n",
    "        \n",
    "\n",
    "        train_losses = []\n",
    "        val_losses = []\n",
    "        for iter in range(iters):\n",
    "            modela.train()\n",
    "            modelc.train()\n",
    "            L2_optimizer.zero_grad()\n",
    "            \n",
    "            ## sigmoid probability and loss\n",
    "            output_a = modela(X_train_a)    # A-A\n",
    "            output_c = modelc(X_train_c)\n",
    "            # Loss_func is the sum of LogLoss and PI Loss\n",
    "            loss_function_train = loss(output_c, Y_train_c) + loss(output_a, Y_train_a) + PI_term.forward(output_c, output_a)\n",
    "            loss_function_train.backward()\n",
    "            L2_optimizer.step()\n",
    "            train_losses.append(loss_function_train)\n",
    "\n",
    "\n",
    "            output_a_valid = modela(X_valid_a)\n",
    "            output_c_valid = modelc(X_valid_c)\n",
    "            loss_function_val = loss(output_c_valid, Y_valid_c) + loss(output_a_valid, Y_valid_a) + PI_term.forward(output_c_valid, output_a_valid)\n",
    "\n",
    "            val_losses.append(loss_function_val)\n",
    "\n",
    "\n",
    "        modela.eval()\n",
    "        modelc.eval()\n",
    "        # accuracy\n",
    "        accu = accuracy(modelc,modela,X_train_c,Y_train_c,X_train_a,Y_train_a)\n",
    "        accu_val = accuracy(modelc,modela,X_valid_c,Y_valid_c,X_valid_a,Y_valid_a)\n",
    "        accu_test = accuracy(modelc,modela,X_test_c,Y_test_c,X_test_a,Y_test_a)\n",
    "        \n",
    "        # PI index\n",
    "        # pi_train = PI_term.forward(modela(X_train_a), modelc(X_train_c))\n",
    "        # pi_valid = PI_term.forward(modela(X_valid_a), modelc(X_valid_c))\n",
    "        # pi_test = PI_term.forward(modela(X_test_a), modelc(X_test_c))\n",
    "\n",
    "        return accu, accu_val, accu_test"
   ]
  },
  {
   "cell_type": "code",
   "execution_count": 16,
   "id": "FS93c_ns3ht0",
   "metadata": {
    "id": "FS93c_ns3ht0"
   },
   "outputs": [],
   "source": [
    "eta_value = [0.0,1.0,2.0,3.0,4.0,5.0,10.0,15.0,20.0,25.0]\n",
    "accur = list()\n",
    "accur_val = list()\n",
    "accur_test = list()\n",
    "# PI_train = list()\n",
    "# PI_val = list()\n",
    "# PI_test = list()\n",
    "for i in range(0,len(eta_value)):\n",
    "    #print(\"Theta Value: %d\" % eta_value[e])\n",
    "    PR = PRLR(eta = eta_value[i], iters = 3000, step = 0.01)\n",
    "    accur_eta,accur_val_eta,accur_test_eta = PR.fit(train_X_c,train_Y_c,train_X_a,train_Y_a,\n",
    "                                                    valid_X_c,valid_Y_c,valid_X_a,valid_Y_a,\n",
    "                                                    test_X_c,test_Y_c,test_X_a,test_Y_a)\n",
    "    accur.append(accur_eta)\n",
    "    accur_val.append(accur_val_eta)\n",
    "    accur_test.append(accur_test_eta)"
   ]
  },
  {
   "cell_type": "code",
   "execution_count": 17,
   "id": "IygQn_xwyhwA",
   "metadata": {
    "colab": {
     "base_uri": "https://localhost:8080/"
    },
    "id": "IygQn_xwyhwA",
    "outputId": "1da19288-e62b-4fc7-8249-f66d8fb69217"
   },
   "outputs": [
    {
     "data": {
      "text/plain": [
       "[(0.7041, 0.0187),\n",
       " (0.7066, 0.0181),\n",
       " (0.706, 0.0168),\n",
       " (0.7048, 0.0101),\n",
       " (0.705, 0.0105),\n",
       " (0.7052, 0.011),\n",
       " (0.7058, 0.008),\n",
       " (0.7067, 0.0126),\n",
       " (0.7042, 0.0176),\n",
       " (0.7058, 0.0135)]"
      ]
     },
     "execution_count": 17,
     "metadata": {},
     "output_type": "execute_result"
    }
   ],
   "source": [
    "#train\n",
    "accur"
   ]
  },
  {
   "cell_type": "code",
   "execution_count": 18,
   "id": "AAB9oupsZ8an",
   "metadata": {
    "colab": {
     "base_uri": "https://localhost:8080/"
    },
    "id": "AAB9oupsZ8an",
    "outputId": "5ce75d22-09c7-46a2-e253-b15b93a2fb9d"
   },
   "outputs": [
    {
     "data": {
      "text/plain": [
       "[(0.6963, 0.0467),\n",
       " (0.6883, 0.0355),\n",
       " (0.6873, 0.024),\n",
       " (0.6856, 0.0207),\n",
       " (0.6811, 0.0162),\n",
       " (0.6844, 0.023),\n",
       " (0.6816, 0.022),\n",
       " (0.6816, 0.022),\n",
       " (0.6828, 0.0196),\n",
       " (0.6828, 0.0196)]"
      ]
     },
     "execution_count": 18,
     "metadata": {},
     "output_type": "execute_result"
    }
   ],
   "source": [
    "#validation\n",
    "accur_val"
   ]
  },
  {
   "cell_type": "code",
   "execution_count": 19,
   "id": "9htajrGSZ97d",
   "metadata": {
    "colab": {
     "base_uri": "https://localhost:8080/"
    },
    "id": "9htajrGSZ97d",
    "outputId": "429ae3bb-7c08-4881-bf14-7a23c7cb0d3d"
   },
   "outputs": [
    {
     "data": {
      "text/plain": [
       "[(0.689, 0.0525),\n",
       " (0.6798, 0.0154),\n",
       " (0.6827, 0.0166),\n",
       " (0.6757, 0.0027),\n",
       " (0.6775, 0.0062),\n",
       " (0.6763, 0.0085),\n",
       " (0.678, 0.0019),\n",
       " (0.6751, 0.0031),\n",
       " (0.6694, 0.0193),\n",
       " (0.6751, 0.0031)]"
      ]
     },
     "execution_count": 19,
     "metadata": {},
     "output_type": "execute_result"
    }
   ],
   "source": [
    "#test\n",
    "accur_test"
   ]
  },
  {
   "cell_type": "markdown",
   "id": "4QmKTpLpaUMJ",
   "metadata": {
    "id": "4QmKTpLpaUMJ"
   },
   "source": [
    "# Final Model"
   ]
  },
  {
   "cell_type": "code",
   "execution_count": 20,
   "id": "_D1EFv-oZ_0h",
   "metadata": {
    "colab": {
     "base_uri": "https://localhost:8080/"
    },
    "id": "_D1EFv-oZ_0h",
    "outputId": "a8305cda-2e05-40d5-a29b-eefb5064b85b"
   },
   "outputs": [
    {
     "data": {
      "text/plain": [
       "((0.706, 0.0168), (0.6873, 0.024), (0.6827, 0.0166))"
      ]
     },
     "execution_count": 20,
     "metadata": {},
     "output_type": "execute_result"
    }
   ],
   "source": [
    "PR_eta2 = PRLR(eta = 2.0, iters = 3000, step = 0.01)\n",
    "PR_eta2.fit(train_X_c,train_Y_c,train_X_a,train_Y_a,\n",
    "                                                    valid_X_c,valid_Y_c,valid_X_a,valid_Y_a,\n",
    "                                                    test_X_c,test_Y_c,test_X_a,test_Y_a)"
   ]
  },
  {
   "cell_type": "markdown",
   "id": "Jr3OLipv0KDJ",
   "metadata": {
    "id": "Jr3OLipv0KDJ"
   },
   "source": [
    "# References"
   ]
  },
  {
   "cell_type": "markdown",
   "id": "SelYmpwL0Lqo",
   "metadata": {
    "id": "SelYmpwL0Lqo"
   },
   "source": [
    "1. https://colab.research.google.com/github/sony/nnabla-examples/blob/master/interactive-demos/prejudice_remover_regularizer.ipynb#scrollTo=r45NcxtY6OzB\n",
    "\n",
    "2. Toshihiro Kamishima, Shotaro Akaho, Hideki Asoh & Jun Sakuma. \"Fairness-aware classifier with prejudice remover regularizer.\" Joint European Conference on Machine Learning and Knowledge Discovery in Databases ECML PKDD 2012: Machine Learning and Knowledge Discovery in Databases pp 35–50."
   ]
  }
 ],
 "metadata": {
  "colab": {
   "provenance": []
  },
  "kernelspec": {
   "display_name": "Python 3 (ipykernel)",
   "language": "python",
   "name": "python3"
  },
  "language_info": {
   "codemirror_mode": {
    "name": "ipython",
    "version": 3
   },
   "file_extension": ".py",
   "mimetype": "text/x-python",
   "name": "python",
   "nbconvert_exporter": "python",
   "pygments_lexer": "ipython3",
   "version": "3.9.13"
  },
  "toc": {
   "base_numbering": 1,
   "nav_menu": {},
   "number_sections": true,
   "sideBar": true,
   "skip_h1_title": false,
   "title_cell": "Table of Contents",
   "title_sidebar": "Contents",
   "toc_cell": false,
   "toc_position": {},
   "toc_section_display": true,
   "toc_window_display": false
  }
 },
 "nbformat": 4,
 "nbformat_minor": 5
}
